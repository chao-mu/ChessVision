{
 "cells": [
  {
   "cell_type": "markdown",
   "metadata": {},
   "source": [
    "# ChessVision Model Deployment"
   ]
  },
  {
   "cell_type": "markdown",
   "metadata": {},
   "source": [
    "First follow the instructions in the [Data Processing Wiki](https://github.com/gudbrandtandberg/ChessVision/wiki/Data-Processing)\n",
    "\n",
    "Then use this notebook to:\n",
    "\n",
    "- Upload new model weights to S3\n",
    "\n",
    "- (Optional) If `container_endpoint.py` changes, rebuild and push the container image to ECR.\n",
    "\n",
    "- When new weights are in, redeploy endpoint:\n",
    "  + Create new model\n",
    "  + Create new endpoint config\n",
    "  + Update endpoint"
   ]
  },
  {
   "cell_type": "markdown",
   "metadata": {},
   "source": [
    "## Upload models archive to S3"
   ]
  },
  {
   "cell_type": "code",
   "execution_count": null,
   "metadata": {},
   "outputs": [],
   "source": [
    "%%sh \n",
    "\n",
    "s3_archive=s3://chessvision-bucket/model_archives/models.tar.gz\n",
    "weights_dir=$CVROOT/weights/models\n",
    "zip_file=$CVROOT/weights/models.tar.gz\n",
    "\n",
    "# Zip the local files\n",
    "tar -zcvf $zip_file $weights_dir\n",
    "\n",
    "# And send them to s3\n",
    "aws s3 cp $zip_file $s3_archive"
   ]
  },
  {
   "cell_type": "code",
   "execution_count": 2,
   "metadata": {},
   "outputs": [
    {
     "name": "stdout",
     "output_type": "stream",
     "text": [
      "Microsoft Windows [Version 10.0.17134.590]\n",
      "(c) 2018 Microsoft Corporation. All rights reserved.\n",
      "\n",
      "(chessvision) C:\\Users\\Gudbrand\\Programming\\ChessVision\\chessvision\\notebooks>\n",
      "(chessvision) C:\\Users\\Gudbrand\\Programming\\ChessVision\\chessvision\\notebooks>set s3_archive=s3://chessvision-bucket/model_archives/models.tar.gz\n",
      "\n",
      "(chessvision) C:\\Users\\Gudbrand\\Programming\\ChessVision\\chessvision\\notebooks>set weights_dir=%CVROOT%\\weights\\models\n",
      "\n",
      "(chessvision) C:\\Users\\Gudbrand\\Programming\\ChessVision\\chessvision\\notebooks>set zip_file=models.tar.gz\n",
      "\n",
      "(chessvision) C:\\Users\\Gudbrand\\Programming\\ChessVision\\chessvision\\notebooks>\n",
      "(chessvision) C:\\Users\\Gudbrand\\Programming\\ChessVision\\chessvision\\notebooks>REM Zip the local files\n",
      "\n",
      "(chessvision) C:\\Users\\Gudbrand\\Programming\\ChessVision\\chessvision\\notebooks>cd %CVROOT%\\weights\n",
      "\n",
      "(chessvision) C:\\Users\\Gudbrand\\Programming\\ChessVision\\weights>tar -zcvf models.tar.gz models\n",
      "\n",
      "(chessvision) C:\\Users\\Gudbrand\\Programming\\ChessVision\\weights>\n",
      "(chessvision) C:\\Users\\Gudbrand\\Programming\\ChessVision\\weights>REM And send them to s3\n",
      "\n",
      "(chessvision) C:\\Users\\Gudbrand\\Programming\\ChessVision\\weights>aws s3 cp models.tar.gz %s3_archive%\n",
      "upload: .\\models.tar.gz to s3://chessvision-bucket/model_archives/models.tar.gz\n",
      "\n",
      "(chessvision) C:\\Users\\Gudbrand\\Programming\\ChessVision\\weights>"
     ]
    },
    {
     "name": "stderr",
     "output_type": "stream",
     "text": [
      "a models\n",
      "a models/best_classifier.hdf5\n",
      "a models/best_extractor.hdf5\n"
     ]
    }
   ],
   "source": [
    "%%cmd\n",
    "\n",
    "set s3_archive=s3://chessvision-bucket/model_archives/models.tar.gz\n",
    "set weights_dir=%CVROOT%\\weights\\models\n",
    "set zip_file=models.tar.gz\n",
    "\n",
    "REM Zip the local files\n",
    "cd %CVROOT%\\weights\n",
    "tar -zcvf models.tar.gz models\n",
    "\n",
    "REM And send them to s3\n",
    "aws s3 cp models.tar.gz %s3_archive%"
   ]
  },
  {
   "cell_type": "markdown",
   "metadata": {},
   "source": [
    "### Build and push the container to ECR (can skip)"
   ]
  },
  {
   "cell_type": "code",
   "execution_count": 15,
   "metadata": {},
   "outputs": [],
   "source": [
    "# Only necessary container_endpoint changes\n",
    "#./build_and_push.sh"
   ]
  },
  {
   "cell_type": "markdown",
   "metadata": {},
   "source": [
    "## Update sagemaker model\n",
    "\n",
    "This operation also pulls new model artifacts from S3"
   ]
  },
  {
   "cell_type": "code",
   "execution_count": 40,
   "metadata": {},
   "outputs": [],
   "source": [
    "import boto3\n",
    "client = boto3.client('sagemaker')"
   ]
  },
  {
   "cell_type": "code",
   "execution_count": 45,
   "metadata": {},
   "outputs": [
    {
     "data": {
      "text/plain": [
       "{'ModelArn': 'arn:aws:sagemaker:eu-central-1:580857158266:model/chessvision-model',\n",
       " 'ResponseMetadata': {'HTTPHeaders': {'content-length': '82',\n",
       "   'content-type': 'application/x-amz-json-1.1',\n",
       "   'date': 'Sun, 03 Mar 2019 00:14:16 GMT',\n",
       "   'x-amzn-requestid': '06681670-1130-457e-a116-53ac5b750be5'},\n",
       "  'HTTPStatusCode': 200,\n",
       "  'RequestId': '06681670-1130-457e-a116-53ac5b750be5',\n",
       "  'RetryAttempts': 0}}"
      ]
     },
     "execution_count": 45,
     "metadata": {},
     "output_type": "execute_result"
    }
   ],
   "source": [
    "\n",
    "#client.delete_model(\n",
    "#    ModelName='chessvision-model'\n",
    "#)\n",
    "\n",
    "client.create_model(\n",
    "    ModelName='chessvision-model',\n",
    "    PrimaryContainer={\n",
    "        'ContainerHostname': 'chessvision-algo',\n",
    "        'Image': '580857158266.dkr.ecr.eu-central-1.amazonaws.com/chessvision-algo:latest',\n",
    "        'ModelDataUrl': \"s3://chessvision-bucket/model_archives/models.tar.gz\",\n",
    "    },\n",
    "    ExecutionRoleArn='arn:aws:iam::580857158266:role/service-role/AmazonSageMaker-ExecutionRole-20190106T201024',\n",
    "    EnableNetworkIsolation=False\n",
    ")"
   ]
  },
  {
   "cell_type": "markdown",
   "metadata": {},
   "source": [
    "## Update endpoint to use the new model"
   ]
  },
  {
   "cell_type": "code",
   "execution_count": 46,
   "metadata": {},
   "outputs": [],
   "source": [
    "client.delete_endpoint_config(\n",
    "    EndpointConfigName='chessvision-endpoint-config'\n",
    ")\n",
    "\n",
    "config_response = client.create_endpoint_config(\n",
    "    EndpointConfigName='chessvision-endpoint-config',\n",
    "    ProductionVariants=[\n",
    "        {\n",
    "            'VariantName': 'chessvision-variant',\n",
    "            'ModelName': 'chessvision-model',\n",
    "            'InitialInstanceCount': 1,\n",
    "            'InstanceType': 'ml.t2.medium',\n",
    "            'InitialVariantWeight': 1\n",
    "        },\n",
    "    ])"
   ]
  },
  {
   "cell_type": "code",
   "execution_count": null,
   "metadata": {},
   "outputs": [],
   "source": [
    "client.update_endpoint(\n",
    "    EndpointName='chessvision-endpoint',\n",
    "    EndpointConfigName='chessvision-endpoint-config'\n",
    ")"
   ]
  },
  {
   "cell_type": "markdown",
   "metadata": {},
   "source": [
    "## Test the endpoint"
   ]
  },
  {
   "cell_type": "code",
   "execution_count": 48,
   "metadata": {},
   "outputs": [
    {
     "name": "stdout",
     "output_type": "stream",
     "text": [
      "b'{\"FEN\": \"q1r1r1k1/pb1nbppp/1p1ppn2/8/2PP4/1P1B1NN1/PB2QPPP/2R1R1K1\"}'\n"
     ]
    }
   ],
   "source": [
    "import boto3\n",
    "import json\n",
    "import requests\n",
    "from cv_globals import CVROOT\n",
    "local = False\n",
    "\n",
    "with open(CVROOT + \"/local_test/test.json\", \"r\") as f:\n",
    "    payload = f.read()\n",
    "\n",
    "payload\n",
    "    \n",
    "client = boto3.client('sagemaker-runtime')\n",
    "endpoint_name = \"chessvision-endpoint\"                      \n",
    "content_type = \"application/json\"                           \n",
    "accept = \"text/plain\"                                   \n",
    "\n",
    "response = client.invoke_endpoint(\n",
    "    EndpointName=endpoint_name, \n",
    "    \n",
    "    ContentType=content_type,\n",
    "    Accept=accept,\n",
    "    Body=payload\n",
    "    )\n",
    "\n",
    "print(response[\"Body\"].read())"
   ]
  }
 ],
 "metadata": {
  "kernelspec": {
   "display_name": "Python 3",
   "language": "python",
   "name": "python3"
  },
  "language_info": {
   "codemirror_mode": {
    "name": "ipython",
    "version": 3
   },
   "file_extension": ".py",
   "mimetype": "text/x-python",
   "name": "python",
   "nbconvert_exporter": "python",
   "pygments_lexer": "ipython3",
   "version": "3.6.6"
  }
 },
 "nbformat": 4,
 "nbformat_minor": 2
}
