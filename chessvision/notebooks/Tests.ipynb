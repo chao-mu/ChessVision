{
 "cells": [
  {
   "cell_type": "markdown",
   "metadata": {},
   "source": [
    "# ChessVision Tests"
   ]
  },
  {
   "cell_type": "code",
   "execution_count": 10,
   "metadata": {},
   "outputs": [],
   "source": [
    "import chessvision as cv\n",
    "import cv_globals\n",
    "from util import listdir_nohidden\n",
    "import cv2\n",
    "import numpy as np\n",
    "import test\n",
    "import os"
   ]
  },
  {
   "cell_type": "code",
   "execution_count": 2,
   "metadata": {},
   "outputs": [
    {
     "name": "stdout",
     "output_type": "stream",
     "text": [
      "Loading square model..\n",
      "Loading square model.. DONE\n",
      "Loading board extraction model..\n",
      "Loading board extraction model.. DONE\n"
     ]
    }
   ],
   "source": [
    "from u_net import load_extractor\n",
    "from square_classifier import load_classifier\n",
    "\n",
    "classifier = load_classifier()\n",
    "extractor = load_extractor()"
   ]
  },
  {
   "cell_type": "code",
   "execution_count": 44,
   "metadata": {},
   "outputs": [],
   "source": [
    "test_data_gen = test.get_test_generator()"
   ]
  },
  {
   "cell_type": "code",
   "execution_count": 3,
   "metadata": {},
   "outputs": [],
   "source": [
    "N = sum([1 for _ in test_data_gen])"
   ]
  },
  {
   "cell_type": "code",
   "execution_count": 4,
   "metadata": {},
   "outputs": [
    {
     "data": {
      "text/plain": [
       "13"
      ]
     },
     "execution_count": 4,
     "metadata": {},
     "output_type": "execute_result"
    }
   ],
   "source": [
    "N"
   ]
  },
  {
   "cell_type": "code",
   "execution_count": 15,
   "metadata": {},
   "outputs": [],
   "source": [
    "n = next(test_data_gen)"
   ]
  },
  {
   "cell_type": "code",
   "execution_count": 16,
   "metadata": {},
   "outputs": [],
   "source": [
    "imgs = [n]"
   ]
  },
  {
   "cell_type": "code",
   "execution_count": 17,
   "metadata": {},
   "outputs": [],
   "source": [
    "test_data_dir = os.path.join(cv_globals.CVROOT, \"data/test\")"
   ]
  },
  {
   "cell_type": "code",
   "execution_count": 25,
   "metadata": {},
   "outputs": [
    {
     "name": "stdout",
     "output_type": "stream",
     "text": [
      "Processing image f29c1937-8279-45a5-a74a-0c6b1aa3ffbe.JPG\n"
     ]
    }
   ],
   "source": [
    "\n",
    "#use this one to rough-label new test images\n",
    "for filename, board_img in imgs:\n",
    "    \n",
    "    outfile = os.path.join(test_data_dir, \"test_class\", filename[:-4] + \".txt\")\n",
    "    \n",
    "    if os.path.exists(outfile):\n",
    "        continue\n",
    "    #board_img, mask, predictions, chessboard, FEN, squares, names\n",
    "    _, _, predictions, chessboard, _, _, _ = cv.classify_raw(board_img, filename, extractor, classifier)\n",
    "    res = vectorize_chessboard(chessboard)\n",
    "    \n",
    "    with open(outfile, \"w\") as out:\n",
    "        out.write(str(res))"
   ]
  },
  {
   "cell_type": "code",
   "execution_count": 26,
   "metadata": {},
   "outputs": [
    {
     "name": "stdout",
     "output_type": "stream",
     "text": [
      "N N N N N N N N\n",
      "N N N N N N N N\n",
      "N N N N N N N N\n",
      "N N N N N N N N\n",
      "N N N N N N N N\n",
      "N N N N N N N N\n",
      "N N N N N N N N\n",
      "N N N N N N N N\n",
      "['N', 'N', 'N', 'N', 'N', 'N', 'N', 'N', 'N', 'N', 'N', 'N', 'N', 'N', 'N', 'N', 'N', 'N', 'N', 'N', 'N', 'N', 'N', 'N', 'N', 'N', 'N', 'N', 'N', 'N', 'N', 'N', 'N', 'N', 'N', 'N', 'N', 'N', 'N', 'N', 'N', 'N', 'N', 'N', 'N', 'N', 'N', 'N', 'N', 'N', 'N', 'N', 'N', 'N', 'N', 'N', 'N', 'N', 'N', 'N', 'N', 'N', 'N', 'N']\n"
     ]
    }
   ],
   "source": [
    "print(chessboard)\n",
    "print(res)"
   ]
  },
  {
   "cell_type": "code",
   "execution_count": 39,
   "metadata": {},
   "outputs": [
    {
     "ename": "NameError",
     "evalue": "name 'filenames' is not defined",
     "output_type": "error",
     "traceback": [
      "\u001b[0;31m---------------------------------------------------------------------------\u001b[0m",
      "\u001b[0;31mNameError\u001b[0m                                 Traceback (most recent call last)",
      "\u001b[0;32m<ipython-input-39-e9842b6b4d7b>\u001b[0m in \u001b[0;36m<module>\u001b[0;34m()\u001b[0m\n\u001b[1;32m      3\u001b[0m \u001b[0mtest_accuracy\u001b[0m \u001b[0;34m=\u001b[0m \u001b[0;36m0\u001b[0m\u001b[0;34m\u001b[0m\u001b[0m\n\u001b[1;32m      4\u001b[0m \u001b[0;32mfor\u001b[0m \u001b[0mi\u001b[0m \u001b[0;32min\u001b[0m \u001b[0mrange\u001b[0m\u001b[0;34m(\u001b[0m\u001b[0mN\u001b[0m\u001b[0;34m)\u001b[0m\u001b[0;34m:\u001b[0m\u001b[0;34m\u001b[0m\u001b[0m\n\u001b[0;32m----> 5\u001b[0;31m     \u001b[0mfilename\u001b[0m \u001b[0;34m=\u001b[0m \u001b[0mfilenames\u001b[0m\u001b[0;34m[\u001b[0m\u001b[0mi\u001b[0m\u001b[0;34m]\u001b[0m\u001b[0;34m\u001b[0m\u001b[0m\n\u001b[0m\u001b[1;32m      6\u001b[0m     \u001b[0mtruth_file\u001b[0m \u001b[0;34m=\u001b[0m \u001b[0mtest_data_dir\u001b[0m \u001b[0;34m+\u001b[0m \u001b[0;34m\"ground_truth/\"\u001b[0m \u001b[0;34m+\u001b[0m \u001b[0mfilename\u001b[0m\u001b[0;34m[\u001b[0m\u001b[0;34m:\u001b[0m\u001b[0;34m-\u001b[0m\u001b[0;36m4\u001b[0m\u001b[0;34m]\u001b[0m \u001b[0;34m+\u001b[0m \u001b[0;34m\".txt\"\u001b[0m\u001b[0;34m\u001b[0m\u001b[0m\n\u001b[1;32m      7\u001b[0m     \u001b[0;32mwith\u001b[0m \u001b[0mopen\u001b[0m\u001b[0;34m(\u001b[0m\u001b[0mtruth_file\u001b[0m\u001b[0;34m)\u001b[0m \u001b[0;32mas\u001b[0m \u001b[0mtruth\u001b[0m\u001b[0;34m:\u001b[0m\u001b[0;34m\u001b[0m\u001b[0m\n",
      "\u001b[0;31mNameError\u001b[0m: name 'filenames' is not defined"
     ]
    }
   ],
   "source": [
    "import ast\n",
    "# use this one to compute test-accuracy\n",
    "test_accuracy = 0\n",
    "for i in range(N):\n",
    "    filename = filenames[i]\n",
    "    truth_file = test_data_dir + \"ground_truth/\" + filename[:-4] + \".txt\"\n",
    "    with open(truth_file) as truth:\n",
    "        true_labels = ast.literal_eval(truth.read())\n",
    "\n",
    "    _, _, chessboard, _, _ = cv.classify_raw(test_imgs[i], filename, extractor, classifier)\n",
    "    res = vectorize_chessboard(chessboard)\n",
    "    test_accuracy += sim(res, true_labels)\n",
    "    \n",
    "test_accuracy /= N\n",
    "test_accuracy *= 100"
   ]
  },
  {
   "cell_type": "code",
   "execution_count": 6,
   "metadata": {},
   "outputs": [
    {
     "ename": "NameError",
     "evalue": "name 'test_accuracy' is not defined",
     "output_type": "error",
     "traceback": [
      "\u001b[0;31m---------------------------------------------------------------------------\u001b[0m",
      "\u001b[0;31mNameError\u001b[0m                                 Traceback (most recent call last)",
      "\u001b[0;32m<ipython-input-6-9427adc4d033>\u001b[0m in \u001b[0;36m<module>\u001b[0;34m()\u001b[0m\n\u001b[0;32m----> 1\u001b[0;31m \u001b[0mprint\u001b[0m\u001b[0;34m(\u001b[0m\u001b[0;34m\"Test accuracy is {}%\"\u001b[0m\u001b[0;34m.\u001b[0m\u001b[0mformat\u001b[0m\u001b[0;34m(\u001b[0m\u001b[0mtest_accuracy\u001b[0m\u001b[0;34m)\u001b[0m\u001b[0;34m)\u001b[0m\u001b[0;34m\u001b[0m\u001b[0m\n\u001b[0m",
      "\u001b[0;31mNameError\u001b[0m: name 'test_accuracy' is not defined"
     ]
    }
   ],
   "source": [
    "print(\"Test accuracy is {}%\".format(test_accuracy))"
   ]
  },
  {
   "cell_type": "code",
   "execution_count": 36,
   "metadata": {},
   "outputs": [
    {
     "name": "stdout",
     "output_type": "stream",
     "text": [
      "['f', 'f', 'f', 'f', 'f', 'R', 'f', 'K', 'P', 'P', 'f', 'f', 'f', 'f', 'P', 'P', 'f', 'f', 'P', 'R', 'f', 'Q', 'f', 'f', 'f', 'f', 'f', 'f', 'f', 'f', 'f', 'f', 'f', 'p', 'f', 'f', 'f', 'f', 'f', 'f', 'p', 'q', 'f', 'f', 'b', 'f', 'f', 'N', 'f', 'f', 'p', 'f', 'f', 'p', 'r', 'p', 'f', 'f', 'f', 'f', 'r', 'k', 'f', 'f']\n"
     ]
    }
   ],
   "source": [
    "res = vectorize_chessboard(chessboard)\n",
    "print(res)"
   ]
  },
  {
   "cell_type": "code",
   "execution_count": 24,
   "metadata": {},
   "outputs": [],
   "source": [
    "def sim(a, b):\n",
    "    return sum([aa == bb for aa, bb in zip(a, b)]) / len(a)\n",
    "\n",
    "def vectorize_chessboard1(board):\n",
    "    res = [\"f\"] * 64\n",
    "    \n",
    "    piecemap = board.piece_map()\n",
    "    \n",
    "    for piece in piecemap:\n",
    "        res[piece] = piecemap[piece].symbol()\n",
    "        #print(piece)\n",
    "\n",
    "    return res\n",
    "        "
   ]
  },
  {
   "cell_type": "code",
   "execution_count": 33,
   "metadata": {},
   "outputs": [],
   "source": [
    "def vectorize_chessboard(board):\n",
    "    res = \"\"\n",
    "    \n",
    "    piecemap = board.piece_map()\n",
    "    \n",
    "    for piece in piecemap:\n",
    "        res += piecemap[piece].symbol()\n",
    "        #print(piece)\n",
    "\n",
    "    return res\n",
    "\n",
    "def modernize_chessboard(old):\n",
    "    res = \"\"\n",
    "    for o in old:\n",
    "        res += o\n",
    "    return res\n",
    "    "
   ]
  },
  {
   "cell_type": "code",
   "execution_count": 27,
   "metadata": {},
   "outputs": [
    {
     "data": {
      "text/plain": [
       "<matplotlib.image.AxesImage at 0x10bf31ac8>"
      ]
     },
     "execution_count": 27,
     "metadata": {},
     "output_type": "execute_result"
    },
    {
     "data": {
      "image/png": "[encoded data removed]",
      "text/plain": [
       "<Figure size 432x288 with 1 Axes>"
      ]
     },
     "metadata": {},
     "output_type": "display_data"
    }
   ],
   "source": [
    "import matplotlib.pyplot as plt\n",
    "\n",
    "plt.imshow(board_img)"
   ]
  },
  {
   "cell_type": "code",
   "execution_count": 39,
   "metadata": {},
   "outputs": [
    {
     "name": "stdout",
     "output_type": "stream",
     "text": [
      "NNNNNNNNNNNNNNNNNNNNNNNNNNNNNNNNNNNNNNNNNNNNNNNNNNNNNNNNNNNNNNNN\n"
     ]
    }
   ],
   "source": [
    "# Translate from old to new\n",
    "\n",
    "s = vectorize_chessboard(chessboard)\n",
    "print(s)"
   ]
  },
  {
   "cell_type": "code",
   "execution_count": 45,
   "metadata": {},
   "outputs": [
    {
     "name": "stdout",
     "output_type": "stream",
     "text": [
      "fffffRfKPPffffPPffPRfQfffffffffffpffffffpqffbffNffpffprpffffrkff\n",
      "fkrfffnrpbppffppfpfffffffffffffffbBfNffffffPfffPfqPBffPfPffKQffR\n",
      "ffRRffKffPfffPBPffNfffPfPfQPffNfpffnPfffffpfpffpfpqbbppffffrfrkf\n",
      "RfBQRfKfffPNfPPfPffPfNfPfPffPfbfffpfpfffffpffnpfppqffpbprffffrkf\n",
      "fffRRfKfPffffPBfqfPfBfPffffffffQfpfffbpfffpfffkfpfffbffprnfffrff\n",
      "fffBffffPffffKNffPfffPPffbfPfBfPfnfpfffpffffffffppfffppfffbfffkf\n",
      "RNBQKBNRPPPPPPPPffffffffffffffffffffffffffffffffpppppppprnbqkbnr\n",
      "ffffffffPfKfRffffPfPffrPfffbPfNpffpfffffkppfffffpfffffffffffffff\n",
      "RNBQKBNRPPPPPPPPffffffffffffffffffffffffffffffffpppppppprnbqkbnr\n",
      "fRfQffKfPbfffPPffffffNfPffnffffffpfffffNpfffffffrffRffppfqfffrkf\n",
      "RNBQKBNRPPPPPPPPffffffffffffffffffffffffffffffffpppppppprnbqkbnr\n",
      "RffQKBfRPPPffPPffNNfBffPffffPfffffffpfffpffpbnfffpfffppprnfqkbfr\n",
      "fffffffffffffffffffffffffffffffffffffffffRfRffffrfqfffffffkfKfff\n"
     ]
    }
   ],
   "source": [
    "import ast \n",
    "for filename, _ in test_data_gen:\n",
    "    \n",
    "    oldfile = os.path.join(test_data_dir, \"ground_truth\", filename[:-4] + \".txt\")\n",
    "    newfile = os.path.join(test_data_dir, \"new_truth\", filename[:-4] + \".txt\")\n",
    "    if not os.path.exists(oldfile):\n",
    "        continue\n",
    "    \n",
    "    with open(oldfile) as truth:\n",
    "        old_labels = ast.literal_eval(truth.read())\n",
    "        modern = modernize_chessboard(old_labels)\n",
    "        print(modern)\n",
    "    with open(newfile, \"w\") as new:\n",
    "        new.write(modern)"
   ]
  },
  {
   "cell_type": "code",
   "execution_count": 41,
   "metadata": {},
   "outputs": [
    {
     "name": "stdout",
     "output_type": "stream",
     "text": [
      "fffffRfKPPffffPPffPRfQfffffffffffpffffffpqffbffNffpffprpffffrkff\n",
      "NNNNNNNNNNNNNNNNNNNNNNNNNNNNNNNNNNNNNNNNNNNNNNNNNNNNNNNNNNNNNNNN\n",
      "0.015625\n"
     ]
    }
   ],
   "source": [
    "print(modern)\n",
    "print(s)\n",
    "print(sim(modern, s))"
   ]
  },
  {
   "cell_type": "code",
   "execution_count": null,
   "metadata": {},
   "outputs": [],
   "source": []
  }
 ],
 "metadata": {
  "kernelspec": {
   "display_name": "Python 3",
   "language": "python",
   "name": "python3"
  },
  "language_info": {
   "codemirror_mode": {
    "name": "ipython",
    "version": 3
   },
   "file_extension": ".py",
   "mimetype": "text/x-python",
   "name": "python",
   "nbconvert_exporter": "python",
   "pygments_lexer": "ipython3",
   "version": "3.6.6"
  }
 },
 "nbformat": 4,
 "nbformat_minor": 2
}
