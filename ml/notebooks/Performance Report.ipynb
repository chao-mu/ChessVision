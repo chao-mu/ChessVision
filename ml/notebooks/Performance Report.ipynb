{
 "cells": [
  {
   "cell_type": "markdown",
   "metadata": {},
   "source": [
    "# ChessVision Performance Report\n",
    "\n",
    "This notebook generates a full performance report of the ChessVision system."
   ]
  },
  {
   "cell_type": "code",
   "execution_count": null,
   "metadata": {},
   "outputs": [],
   "source": [
    "%matplotlib inline\n",
    "\n",
    "from mpl_toolkits.axes_grid1 import ImageGrid\n",
    "import matplotlib.pyplot as plt\n",
    "import chessvision as cv\n",
    "from test import run_tests, get_test_generator, plot_confusion_mtx, labels\n",
    "import chessvision.cv_globals as cv_globals\n",
    "import cv2\n",
    "import os\n",
    "import numpy as np\n",
    "from chessvision.model.u_net import load_extractor\n",
    "from chessvision.model.square_classifier import load_classifier"
   ]
  },
  {
   "cell_type": "markdown",
   "metadata": {},
   "source": [
    "### Parameters\n",
    "\n",
    "These variables will be filled in by papermill. \n",
    "(Default to using current best models)"
   ]
  },
  {
   "cell_type": "code",
   "execution_count": null,
   "metadata": {
    "tags": [
     "parameters"
    ]
   },
   "outputs": [],
   "source": [
    "classifier_weights = cv_globals.square_weights\n",
    "extractor_weights  = cv_globals.board_weights\n",
    "threshold          = 80"
   ]
  },
  {
   "cell_type": "markdown",
   "metadata": {},
   "source": [
    "### Load models and test data generator"
   ]
  },
  {
   "cell_type": "code",
   "execution_count": null,
   "metadata": {},
   "outputs": [],
   "source": [
    "data_generator = get_test_generator()\n",
    "extractor      = load_extractor(weights=extractor_weights)\n",
    "classifier     = load_classifier(weights=classifier_weights)"
   ]
  },
  {
   "cell_type": "code",
   "execution_count": null,
   "metadata": {},
   "outputs": [],
   "source": [
    "# from chessvision.model.ensemble_classifier import EnsembleSquareClassifier\n",
    "# # Fixme: TEMP!\n",
    "# model_files = [\n",
    "#             r\"C:\\Users\\Gudbrand\\Programming\\ChessVision\\weights\\classifier_1_09-0.9308.hdf5\",\n",
    "#             r\"C:\\Users\\Gudbrand\\Programming\\ChessVision\\weights\\classifier_2_02-0.2864.hdf5\",\n",
    "#             r\"C:\\Users\\Gudbrand\\Programming\\ChessVision\\weights\\classifier_3_02-0.0764.hdf5\",\n",
    "#         ]\n",
    "\n",
    "# classifier = EnsembleSquareClassifier(model_files=model_files)"
   ]
  },
  {
   "cell_type": "code",
   "execution_count": null,
   "metadata": {
    "scrolled": true
   },
   "outputs": [],
   "source": [
    "results = run_tests(data_generator, extractor, classifier, threshold)"
   ]
  },
  {
   "cell_type": "markdown",
   "metadata": {},
   "source": [
    "### Get results"
   ]
  },
  {
   "cell_type": "code",
   "execution_count": null,
   "metadata": {},
   "outputs": [],
   "source": [
    "board_imgs = results[\"board_imgs\"]\n",
    "imgs = results[\"raw_imgs\"]\n",
    "predictions = results[\"predictions\"]\n",
    "boards = results[\"chessboards\"]\n",
    "acc = results[\"acc\"]\n",
    "board_accs = results[\"board_accs\"]\n",
    "avg_time = results[\"avg_time\"]\n",
    "avg_entropy = results[\"avg_entropy\"]\n",
    "squares = results[\"squares\"]\n",
    "masks = results[\"masks\"]\n",
    "errors = results[\"errors\"]\n",
    "top_2 = results[\"top_2_accuracy\"]\n",
    "top_3 = results[\"top_3_accuracy\"]\n",
    "ondiag, offdiag = results[\"hits\"]\n",
    "filenames = results[\"filenames\"]\n",
    "true_labels = results[\"true_labels\"]\n",
    "N = len(results[\"raw_imgs\"])"
   ]
  },
  {
   "cell_type": "code",
   "execution_count": null,
   "metadata": {},
   "outputs": [],
   "source": [
    "print(\"Test suite accuracy: {:.1f}%\".format(acc*100))\n",
    "print(\"Top-2 accuracy: {:.1f}%\".format(top_2*100))\n",
    "print(\"Top-3 accuracy: {:.1f}%\".format(top_3*100))\n",
    "print(\"Average time per raw classification: {:.1f}s\".format(avg_time))\n",
    "print(\"Average entropy of classifier predictions: {:.2g}\".format(avg_entropy))\n",
    "print(\"Number of board extraction errors: {}\".format(errors))\n",
    "print(\"Overall correct piece classifications: {}/{} ({} incorrect)\".format(ondiag, ondiag + offdiag, offdiag))"
   ]
  },
  {
   "cell_type": "markdown",
   "metadata": {},
   "source": [
    "### Confusion Matrix"
   ]
  },
  {
   "cell_type": "code",
   "execution_count": null,
   "metadata": {},
   "outputs": [],
   "source": [
    "mtx = results[\"confusion_matrix\"]\n",
    "plt.figure(figsize=(9, 9))\n",
    "plot_confusion_mtx(mtx, labels)\n",
    "plt.show()"
   ]
  },
  {
   "cell_type": "markdown",
   "metadata": {},
   "source": [
    "### Plot results"
   ]
  },
  {
   "cell_type": "code",
   "execution_count": null,
   "metadata": {},
   "outputs": [],
   "source": [
    "rows = N\n",
    "cols = 3\n",
    "\n",
    "fig = plt.figure(1, figsize=(12, 40)) #width, height in inches.\n",
    "\n",
    "grid = ImageGrid(fig, 111,  # similar to subplot(111)\n",
    "                 nrows_ncols=(rows, cols),  # creates 2x2 grid of axes\n",
    "                 axes_pad=0.1,  # pad between axes in inch.\n",
    "                 share_all=True,\n",
    "                 label_mode=None\n",
    "                 )\n",
    "\n",
    "for i in range(rows):\n",
    "    raw = imgs[i]\n",
    "    board = board_imgs[i]\n",
    "    mask = cv2.resize(masks[i], (512, 512))\n",
    "    \n",
    "    ax1 = grid[cols*i]\n",
    "    ax1.imshow(raw)\n",
    "    ax1.axis(\"off\")\n",
    "\n",
    "    ax2 = grid[cols*i+1]\n",
    "    ax2.imshow(mask.reshape((512, 512)), cmap=\"gray\")\n",
    "    ax2.axis(\"off\")\n",
    "    \n",
    "    ax3 = grid[cols*i+2]\n",
    "    ax3.imshow(board, cmap=\"gray\")\n",
    "    ax3.axis(\"off\")\n",
    "    \n",
    "    if i == 0:\n",
    "        ax1.set_title(\"Raw\")\n",
    "        ax2.set_title(\"Predicted mask\")\n",
    "        ax3.set_title(\"Extracted board\")\n",
    "\n",
    "#plt.savefig(\"../../img/training_extraction.png\", bbox_inches=\"tight\")\n",
    "plt.show()\n"
   ]
  },
  {
   "cell_type": "code",
   "execution_count": null,
   "metadata": {},
   "outputs": [],
   "source": [
    "# label_names  = ['B', 'K', 'N', 'P', 'Q', 'R', 'b', 'k', 'n', 'p', 'q', 'r', 'f']\n",
    "\n",
    "# for k in range(N):\n",
    "\n",
    "#     piecemap = boards[k].piece_map()\n",
    "#     pred_labels = [\"f\"] * 64\n",
    "#     for piece in piecemap:\n",
    "#         pred_labels[piece] = piecemap[piece].symbol()\n",
    "#     pred_labels = list(reversed(pred_labels))\n",
    "#     for i in range(8):\n",
    "#         pred_labels[i*8:(i+1)*8] = list(reversed(pred_labels[i*8:(i+1)*8]))\n",
    "    \n",
    "#     square_grid = squares[k]\n",
    "#     # Plot\n",
    "#     rows, cols = 8, 8\n",
    "#     fig = plt.figure(figsize=(12, 12))\n",
    "#     grid = ImageGrid(fig, 111,  # similar to subplot(111)\n",
    "#                      nrows_ncols=(rows, cols),  # creates 2x2 grid of axes\n",
    "#                      axes_pad=0.3,  # pad between axes in inch.\n",
    "#                      share_all=True,\n",
    "#                      label_mode=None\n",
    "#                      )\n",
    "\n",
    "#     for i in range(cols):\n",
    "#         for j in range(rows):\n",
    "#             ind = cols*i+j\n",
    "#             im = square_grid[ind]\n",
    "#             label = pred_labels[ind]\n",
    "#             grid[ind].imshow(im.reshape(64, 64), cmap=\"gray\")\n",
    "#             grid[ind].set_title(label, size=14, fontweight=3)\n",
    "#             grid[ind].axis(\"off\")\n",
    "\n",
    "#     plt.suptitle(\"Classification of test image {}: {}/64\".format(k, int(64*board_accs[k])), size=20, fontweight=5)"
   ]
  },
  {
   "cell_type": "code",
   "execution_count": null,
   "metadata": {},
   "outputs": [],
   "source": [
    "for k in range(N):\n",
    "    im_grid = squares[k]\n",
    "    piecemap = boards[k].piece_map()\n",
    "    pred_labels = [\"f\"] * 64\n",
    "    for piece in piecemap:\n",
    "        pred_labels[piece] = piecemap[piece].symbol()\n",
    "    pred_labels = list(reversed(pred_labels))\n",
    "    for i in range(8):\n",
    "        pred_labels[i*8:(i+1)*8] = list(reversed(pred_labels[i*8:(i+1)*8]))\n",
    "    predicted = \"\".join(pred_labels)\n",
    "    \n",
    "    ground_truth = [x for x in true_labels[k]]\n",
    "    for i in range(8):\n",
    "        ground_truth[i*8:(i+1)*8] = list(reversed(ground_truth[i*8:(i+1)*8]))\n",
    "    ground_truth = \"\".join(ground_truth)\n",
    "    ground_truth = ground_truth[::-1]\n",
    "\n",
    "    # Plot\n",
    "    n_errors = sum(1 for a, b in zip(predicted, ground_truth) if a != b)\n",
    "    cols = 4\n",
    "    rows = n_errors // cols + 1\n",
    "    fig = plt.figure() #figsize=(12, 12)\n",
    "    ind = 0\n",
    "\n",
    "    # if n_errors:\n",
    "    grid = ImageGrid(fig, 111,  # similar to subplot(111)\n",
    "                    nrows_ncols=(rows, cols),  # creates 2x2 grid of axes\n",
    "                    axes_pad=0.3,  # pad between axes in inch.\n",
    "                    share_all=True,\n",
    "                    label_mode=None,\n",
    "                    )\n",
    "\n",
    "    for true, pred, im in zip(ground_truth, predicted, im_grid):\n",
    "        if true != pred:\n",
    "            grid[ind].imshow(cv2.resize(im.reshape(64, 64), (200, 200)), cmap=\"gray\", aspect=\"auto\")\n",
    "            grid[ind].set_title(f\"{true}->{pred}\", fontweight=3)\n",
    "            grid[ind].axis(\"off\")\n",
    "            ind += 1\n",
    "    \n",
    "    for ax in grid:\n",
    "        ax.axis(\"off\")\n",
    "\n",
    "    plt.suptitle(f\"{filenames[k]}: {int(64*board_accs[k])}/64 ({100*board_accs[k]:.1f}%)\", size=14) #, fontweight=5\n",
    "    # plt.close()"
   ]
  },
  {
   "cell_type": "code",
   "execution_count": null,
   "metadata": {},
   "outputs": [],
   "source": []
  }
 ],
 "metadata": {
  "celltoolbar": "Tags",
  "kernelspec": {
   "display_name": "cv_env_38",
   "language": "python",
   "name": "python3"
  },
  "language_info": {
   "codemirror_mode": {
    "name": "ipython",
    "version": 3
   },
   "file_extension": ".py",
   "mimetype": "text/x-python",
   "name": "python",
   "nbconvert_exporter": "python",
   "pygments_lexer": "ipython3",
   "version": "3.8.7"
  },
  "vscode": {
   "interpreter": {
    "hash": "fdfb7946dca4c1459455f50f7ca3a3c0e41687dd23770759186aacf315b376ac"
   }
  }
 },
 "nbformat": 4,
 "nbformat_minor": 2
}
